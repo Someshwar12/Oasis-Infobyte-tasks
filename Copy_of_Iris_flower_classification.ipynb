{
  "nbformat": 4,
  "nbformat_minor": 0,
  "metadata": {
    "colab": {
      "provenance": [],
      "authorship_tag": "ABX9TyM03qb+VQxUnwDR/bRq72ZG",
      "include_colab_link": true
    },
    "kernelspec": {
      "name": "python3",
      "display_name": "Python 3"
    },
    "language_info": {
      "name": "python"
    }
  },
  "cells": [
    {
      "cell_type": "markdown",
      "metadata": {
        "id": "view-in-github",
        "colab_type": "text"
      },
      "source": [
        "<a href=\"https://colab.research.google.com/github/Someshwar12/Oasis-Infobyte-tasks/blob/main/Copy_of_Iris_flower_classification.ipynb\" target=\"_parent\"><img src=\"https://colab.research.google.com/assets/colab-badge.svg\" alt=\"Open In Colab\"/></a>"
      ]
    },
    {
      "cell_type": "code",
      "execution_count": null,
      "metadata": {
        "id": "ENhwnRdWzo4w"
      },
      "outputs": [],
      "source": [
        "import numpy as np\n",
        "import pandas as pd\n",
        "import matplotlib.pyplot as plt\n",
        "from sklearn.datasets import load_iris\n",
        "from sklearn.model_selection import train_test_split\n",
        "from sklearn.preprocessing import StandardScaler\n",
        "from sklearn.metrics import accuracy_score, confusion_matrix, classification_report"
      ]
    },
    {
      "cell_type": "code",
      "source": [
        "import tensorflow as tf\n",
        "from tensorflow.keras.models import Sequential\n",
        "from tensorflow.keras.layers import Dense"
      ],
      "metadata": {
        "id": "ax_Xb9iZzyzo"
      },
      "execution_count": null,
      "outputs": []
    },
    {
      "cell_type": "code",
      "source": [
        "# Load the Iris dataset\n",
        "iris = load_iris()\n",
        "data = iris.data\n",
        "target = iris.target"
      ],
      "metadata": {
        "id": "QJ4SLwHtz2wH"
      },
      "execution_count": null,
      "outputs": []
    },
    {
      "cell_type": "code",
      "source": [
        "# Convert target labels to one-hot encoded vectors\n",
        "target = pd.get_dummies(target).values\n",
        "\n",
        "# Split the dataset into training and testing sets\n",
        "X_train, X_test, y_train, y_test = train_test_split(data, target, test_size=0.2, random_state=42)"
      ],
      "metadata": {
        "id": "e56YajNQz5ms"
      },
      "execution_count": null,
      "outputs": []
    },
    {
      "cell_type": "code",
      "source": [
        "# Normalize the data\n",
        "scaler = StandardScaler()\n",
        "X_train = scaler.fit_transform(X_train)\n",
        "X_test = scaler.transform(X_test)"
      ],
      "metadata": {
        "id": "rYpfas70z81Q"
      },
      "execution_count": null,
      "outputs": []
    },
    {
      "cell_type": "code",
      "source": [
        "# Define the neural network model\n",
        "model = Sequential([\n",
        "    Dense(10, activation='relu', input_shape=(4,)),\n",
        "    Dense(8, activation='relu'),\n",
        "    Dense(3, activation='softmax')\n",
        "  ])"
      ],
      "metadata": {
        "id": "UJmeN_6Y0AHw"
      },
      "execution_count": null,
      "outputs": []
    },
    {
      "cell_type": "code",
      "source": [
        "# Compile the model\n",
        "model.compile(optimizer='adam', loss='categorical_crossentropy', metrics=['accuracy'])\n",
        "\n",
        "# Train the model\n",
        "history = model.fit(X_train, y_train, epochs=100, batch_size=8, validation_data=(X_test, y_test), verbose=1)"
      ],
      "metadata": {
        "id": "m93o7-gn0Dzc",
        "colab": {
          "base_uri": "https://localhost:8080/"
        },
        "outputId": "1747cefb-1778-449f-c376-aa298c7bd83f"
      },
      "execution_count": null,
      "outputs": [
        {
          "output_type": "stream",
          "name": "stdout",
          "text": [
            "Epoch 1/100\n",
            "15/15 [==============================] - 1s 19ms/step - loss: 1.3134 - accuracy: 0.3333 - val_loss: 1.3328 - val_accuracy: 0.2667\n",
            "Epoch 2/100\n",
            "15/15 [==============================] - 0s 5ms/step - loss: 1.2342 - accuracy: 0.3417 - val_loss: 1.2532 - val_accuracy: 0.3000\n",
            "Epoch 3/100\n",
            "15/15 [==============================] - 0s 4ms/step - loss: 1.1704 - accuracy: 0.3583 - val_loss: 1.1878 - val_accuracy: 0.3000\n",
            "Epoch 4/100\n",
            "15/15 [==============================] - 0s 6ms/step - loss: 1.1147 - accuracy: 0.3917 - val_loss: 1.1265 - val_accuracy: 0.3667\n",
            "Epoch 5/100\n",
            "15/15 [==============================] - 0s 5ms/step - loss: 1.0615 - accuracy: 0.4750 - val_loss: 1.0628 - val_accuracy: 0.4000\n",
            "Epoch 6/100\n",
            "15/15 [==============================] - 0s 7ms/step - loss: 1.0082 - accuracy: 0.5667 - val_loss: 1.0001 - val_accuracy: 0.5000\n",
            "Epoch 7/100\n",
            "15/15 [==============================] - 0s 7ms/step - loss: 0.9534 - accuracy: 0.6250 - val_loss: 0.9388 - val_accuracy: 0.5667\n",
            "Epoch 8/100\n",
            "15/15 [==============================] - 0s 5ms/step - loss: 0.9015 - accuracy: 0.6500 - val_loss: 0.8586 - val_accuracy: 0.7667\n",
            "Epoch 9/100\n",
            "15/15 [==============================] - 0s 7ms/step - loss: 0.8382 - accuracy: 0.7167 - val_loss: 0.7755 - val_accuracy: 0.9000\n",
            "Epoch 10/100\n",
            "15/15 [==============================] - 0s 6ms/step - loss: 0.7691 - accuracy: 0.7750 - val_loss: 0.7000 - val_accuracy: 0.8667\n",
            "Epoch 11/100\n",
            "15/15 [==============================] - 0s 7ms/step - loss: 0.7080 - accuracy: 0.8083 - val_loss: 0.6231 - val_accuracy: 0.9000\n",
            "Epoch 12/100\n",
            "15/15 [==============================] - 0s 6ms/step - loss: 0.6448 - accuracy: 0.8167 - val_loss: 0.5626 - val_accuracy: 0.8667\n",
            "Epoch 13/100\n",
            "15/15 [==============================] - 0s 6ms/step - loss: 0.5923 - accuracy: 0.8083 - val_loss: 0.5113 - val_accuracy: 0.8667\n",
            "Epoch 14/100\n",
            "15/15 [==============================] - 0s 8ms/step - loss: 0.5485 - accuracy: 0.8083 - val_loss: 0.4651 - val_accuracy: 0.9000\n",
            "Epoch 15/100\n",
            "15/15 [==============================] - 0s 5ms/step - loss: 0.5084 - accuracy: 0.8167 - val_loss: 0.4284 - val_accuracy: 0.9000\n",
            "Epoch 16/100\n",
            "15/15 [==============================] - 0s 6ms/step - loss: 0.4743 - accuracy: 0.8167 - val_loss: 0.3966 - val_accuracy: 0.9000\n",
            "Epoch 17/100\n",
            "15/15 [==============================] - 0s 6ms/step - loss: 0.4452 - accuracy: 0.8250 - val_loss: 0.3688 - val_accuracy: 0.9000\n",
            "Epoch 18/100\n",
            "15/15 [==============================] - 0s 6ms/step - loss: 0.4196 - accuracy: 0.8417 - val_loss: 0.3464 - val_accuracy: 0.9333\n",
            "Epoch 19/100\n",
            "15/15 [==============================] - 0s 6ms/step - loss: 0.3987 - accuracy: 0.8500 - val_loss: 0.3268 - val_accuracy: 0.9333\n",
            "Epoch 20/100\n",
            "15/15 [==============================] - 0s 6ms/step - loss: 0.3801 - accuracy: 0.8500 - val_loss: 0.3093 - val_accuracy: 0.9333\n",
            "Epoch 21/100\n",
            "15/15 [==============================] - 0s 7ms/step - loss: 0.3639 - accuracy: 0.8500 - val_loss: 0.2940 - val_accuracy: 0.9333\n",
            "Epoch 22/100\n",
            "15/15 [==============================] - 0s 5ms/step - loss: 0.3495 - accuracy: 0.8500 - val_loss: 0.2811 - val_accuracy: 0.9333\n",
            "Epoch 23/100\n",
            "15/15 [==============================] - 0s 6ms/step - loss: 0.3365 - accuracy: 0.8583 - val_loss: 0.2690 - val_accuracy: 0.9333\n",
            "Epoch 24/100\n",
            "15/15 [==============================] - 0s 6ms/step - loss: 0.3244 - accuracy: 0.8667 - val_loss: 0.2585 - val_accuracy: 0.9333\n",
            "Epoch 25/100\n",
            "15/15 [==============================] - 0s 7ms/step - loss: 0.3136 - accuracy: 0.8667 - val_loss: 0.2485 - val_accuracy: 0.9333\n",
            "Epoch 26/100\n",
            "15/15 [==============================] - 0s 7ms/step - loss: 0.3032 - accuracy: 0.8833 - val_loss: 0.2394 - val_accuracy: 0.9333\n",
            "Epoch 27/100\n",
            "15/15 [==============================] - 0s 6ms/step - loss: 0.2934 - accuracy: 0.8833 - val_loss: 0.2315 - val_accuracy: 0.9333\n",
            "Epoch 28/100\n",
            "15/15 [==============================] - 0s 5ms/step - loss: 0.2845 - accuracy: 0.8833 - val_loss: 0.2230 - val_accuracy: 0.9333\n",
            "Epoch 29/100\n",
            "15/15 [==============================] - 0s 6ms/step - loss: 0.2766 - accuracy: 0.9083 - val_loss: 0.2146 - val_accuracy: 0.9333\n",
            "Epoch 30/100\n",
            "15/15 [==============================] - 0s 6ms/step - loss: 0.2680 - accuracy: 0.9083 - val_loss: 0.2078 - val_accuracy: 0.9333\n",
            "Epoch 31/100\n",
            "15/15 [==============================] - 0s 7ms/step - loss: 0.2595 - accuracy: 0.9167 - val_loss: 0.2009 - val_accuracy: 0.9333\n",
            "Epoch 32/100\n",
            "15/15 [==============================] - 0s 8ms/step - loss: 0.2531 - accuracy: 0.9167 - val_loss: 0.1939 - val_accuracy: 0.9333\n",
            "Epoch 33/100\n",
            "15/15 [==============================] - 0s 6ms/step - loss: 0.2448 - accuracy: 0.9167 - val_loss: 0.1874 - val_accuracy: 0.9333\n",
            "Epoch 34/100\n",
            "15/15 [==============================] - 0s 7ms/step - loss: 0.2381 - accuracy: 0.9167 - val_loss: 0.1809 - val_accuracy: 0.9667\n",
            "Epoch 35/100\n",
            "15/15 [==============================] - 0s 6ms/step - loss: 0.2307 - accuracy: 0.9167 - val_loss: 0.1747 - val_accuracy: 0.9667\n",
            "Epoch 36/100\n",
            "15/15 [==============================] - 0s 7ms/step - loss: 0.2244 - accuracy: 0.9167 - val_loss: 0.1680 - val_accuracy: 0.9667\n",
            "Epoch 37/100\n",
            "15/15 [==============================] - 0s 7ms/step - loss: 0.2176 - accuracy: 0.9167 - val_loss: 0.1621 - val_accuracy: 0.9667\n",
            "Epoch 38/100\n",
            "15/15 [==============================] - 0s 6ms/step - loss: 0.2119 - accuracy: 0.9333 - val_loss: 0.1560 - val_accuracy: 0.9667\n",
            "Epoch 39/100\n",
            "15/15 [==============================] - 0s 5ms/step - loss: 0.2062 - accuracy: 0.9333 - val_loss: 0.1524 - val_accuracy: 0.9667\n",
            "Epoch 40/100\n",
            "15/15 [==============================] - 0s 4ms/step - loss: 0.2000 - accuracy: 0.9333 - val_loss: 0.1463 - val_accuracy: 0.9667\n",
            "Epoch 41/100\n",
            "15/15 [==============================] - 0s 5ms/step - loss: 0.1955 - accuracy: 0.9417 - val_loss: 0.1402 - val_accuracy: 0.9667\n",
            "Epoch 42/100\n",
            "15/15 [==============================] - 0s 5ms/step - loss: 0.1894 - accuracy: 0.9417 - val_loss: 0.1363 - val_accuracy: 0.9667\n",
            "Epoch 43/100\n",
            "15/15 [==============================] - 0s 4ms/step - loss: 0.1854 - accuracy: 0.9417 - val_loss: 0.1303 - val_accuracy: 0.9667\n",
            "Epoch 44/100\n",
            "15/15 [==============================] - 0s 5ms/step - loss: 0.1786 - accuracy: 0.9500 - val_loss: 0.1273 - val_accuracy: 0.9667\n",
            "Epoch 45/100\n",
            "15/15 [==============================] - 0s 5ms/step - loss: 0.1752 - accuracy: 0.9500 - val_loss: 0.1229 - val_accuracy: 0.9667\n",
            "Epoch 46/100\n",
            "15/15 [==============================] - 0s 4ms/step - loss: 0.1696 - accuracy: 0.9583 - val_loss: 0.1196 - val_accuracy: 0.9667\n",
            "Epoch 47/100\n",
            "15/15 [==============================] - 0s 4ms/step - loss: 0.1655 - accuracy: 0.9583 - val_loss: 0.1148 - val_accuracy: 0.9667\n",
            "Epoch 48/100\n",
            "15/15 [==============================] - 0s 5ms/step - loss: 0.1603 - accuracy: 0.9583 - val_loss: 0.1127 - val_accuracy: 0.9667\n",
            "Epoch 49/100\n",
            "15/15 [==============================] - 0s 4ms/step - loss: 0.1557 - accuracy: 0.9583 - val_loss: 0.1068 - val_accuracy: 1.0000\n",
            "Epoch 50/100\n",
            "15/15 [==============================] - 0s 4ms/step - loss: 0.1510 - accuracy: 0.9583 - val_loss: 0.1045 - val_accuracy: 1.0000\n",
            "Epoch 51/100\n",
            "15/15 [==============================] - 0s 4ms/step - loss: 0.1471 - accuracy: 0.9583 - val_loss: 0.1002 - val_accuracy: 1.0000\n",
            "Epoch 52/100\n",
            "15/15 [==============================] - 0s 4ms/step - loss: 0.1433 - accuracy: 0.9583 - val_loss: 0.0973 - val_accuracy: 1.0000\n",
            "Epoch 53/100\n",
            "15/15 [==============================] - 0s 4ms/step - loss: 0.1400 - accuracy: 0.9667 - val_loss: 0.0952 - val_accuracy: 1.0000\n",
            "Epoch 54/100\n",
            "15/15 [==============================] - 0s 4ms/step - loss: 0.1363 - accuracy: 0.9667 - val_loss: 0.0920 - val_accuracy: 1.0000\n",
            "Epoch 55/100\n",
            "15/15 [==============================] - 0s 5ms/step - loss: 0.1333 - accuracy: 0.9667 - val_loss: 0.0903 - val_accuracy: 1.0000\n",
            "Epoch 56/100\n",
            "15/15 [==============================] - 0s 4ms/step - loss: 0.1302 - accuracy: 0.9667 - val_loss: 0.0866 - val_accuracy: 1.0000\n",
            "Epoch 57/100\n",
            "15/15 [==============================] - 0s 4ms/step - loss: 0.1276 - accuracy: 0.9667 - val_loss: 0.0855 - val_accuracy: 1.0000\n",
            "Epoch 58/100\n",
            "15/15 [==============================] - 0s 5ms/step - loss: 0.1255 - accuracy: 0.9667 - val_loss: 0.0827 - val_accuracy: 1.0000\n",
            "Epoch 59/100\n",
            "15/15 [==============================] - 0s 5ms/step - loss: 0.1258 - accuracy: 0.9667 - val_loss: 0.0842 - val_accuracy: 1.0000\n",
            "Epoch 60/100\n",
            "15/15 [==============================] - 0s 5ms/step - loss: 0.1201 - accuracy: 0.9750 - val_loss: 0.0796 - val_accuracy: 1.0000\n",
            "Epoch 61/100\n",
            "15/15 [==============================] - 0s 5ms/step - loss: 0.1168 - accuracy: 0.9750 - val_loss: 0.0783 - val_accuracy: 1.0000\n",
            "Epoch 62/100\n",
            "15/15 [==============================] - 0s 4ms/step - loss: 0.1169 - accuracy: 0.9667 - val_loss: 0.0757 - val_accuracy: 1.0000\n",
            "Epoch 63/100\n",
            "15/15 [==============================] - 0s 6ms/step - loss: 0.1140 - accuracy: 0.9667 - val_loss: 0.0776 - val_accuracy: 1.0000\n",
            "Epoch 64/100\n",
            "15/15 [==============================] - 0s 5ms/step - loss: 0.1124 - accuracy: 0.9750 - val_loss: 0.0725 - val_accuracy: 1.0000\n",
            "Epoch 65/100\n",
            "15/15 [==============================] - 0s 5ms/step - loss: 0.1091 - accuracy: 0.9667 - val_loss: 0.0723 - val_accuracy: 1.0000\n",
            "Epoch 66/100\n",
            "15/15 [==============================] - 0s 5ms/step - loss: 0.1065 - accuracy: 0.9750 - val_loss: 0.0710 - val_accuracy: 1.0000\n",
            "Epoch 67/100\n",
            "15/15 [==============================] - 0s 4ms/step - loss: 0.1047 - accuracy: 0.9750 - val_loss: 0.0694 - val_accuracy: 1.0000\n",
            "Epoch 68/100\n",
            "15/15 [==============================] - 0s 5ms/step - loss: 0.1033 - accuracy: 0.9750 - val_loss: 0.0680 - val_accuracy: 1.0000\n",
            "Epoch 69/100\n",
            "15/15 [==============================] - 0s 5ms/step - loss: 0.1016 - accuracy: 0.9750 - val_loss: 0.0668 - val_accuracy: 1.0000\n",
            "Epoch 70/100\n",
            "15/15 [==============================] - 0s 5ms/step - loss: 0.0997 - accuracy: 0.9667 - val_loss: 0.0663 - val_accuracy: 1.0000\n",
            "Epoch 71/100\n",
            "15/15 [==============================] - 0s 5ms/step - loss: 0.0989 - accuracy: 0.9667 - val_loss: 0.0659 - val_accuracy: 1.0000\n",
            "Epoch 72/100\n",
            "15/15 [==============================] - 0s 4ms/step - loss: 0.0967 - accuracy: 0.9667 - val_loss: 0.0635 - val_accuracy: 1.0000\n",
            "Epoch 73/100\n",
            "15/15 [==============================] - 0s 5ms/step - loss: 0.0957 - accuracy: 0.9667 - val_loss: 0.0627 - val_accuracy: 1.0000\n",
            "Epoch 74/100\n",
            "15/15 [==============================] - 0s 5ms/step - loss: 0.0950 - accuracy: 0.9667 - val_loss: 0.0627 - val_accuracy: 1.0000\n",
            "Epoch 75/100\n",
            "15/15 [==============================] - 0s 4ms/step - loss: 0.0925 - accuracy: 0.9667 - val_loss: 0.0608 - val_accuracy: 1.0000\n",
            "Epoch 76/100\n",
            "15/15 [==============================] - 0s 5ms/step - loss: 0.0920 - accuracy: 0.9667 - val_loss: 0.0587 - val_accuracy: 1.0000\n",
            "Epoch 77/100\n",
            "15/15 [==============================] - 0s 6ms/step - loss: 0.0926 - accuracy: 0.9583 - val_loss: 0.0603 - val_accuracy: 1.0000\n",
            "Epoch 78/100\n",
            "15/15 [==============================] - 0s 4ms/step - loss: 0.0895 - accuracy: 0.9667 - val_loss: 0.0583 - val_accuracy: 1.0000\n",
            "Epoch 79/100\n",
            "15/15 [==============================] - 0s 5ms/step - loss: 0.0884 - accuracy: 0.9583 - val_loss: 0.0568 - val_accuracy: 1.0000\n",
            "Epoch 80/100\n",
            "15/15 [==============================] - 0s 5ms/step - loss: 0.0873 - accuracy: 0.9583 - val_loss: 0.0568 - val_accuracy: 1.0000\n",
            "Epoch 81/100\n",
            "15/15 [==============================] - 0s 5ms/step - loss: 0.0873 - accuracy: 0.9667 - val_loss: 0.0559 - val_accuracy: 1.0000\n",
            "Epoch 82/100\n",
            "15/15 [==============================] - 0s 4ms/step - loss: 0.0856 - accuracy: 0.9583 - val_loss: 0.0547 - val_accuracy: 1.0000\n",
            "Epoch 83/100\n",
            "15/15 [==============================] - 0s 5ms/step - loss: 0.0844 - accuracy: 0.9667 - val_loss: 0.0547 - val_accuracy: 1.0000\n",
            "Epoch 84/100\n",
            "15/15 [==============================] - 0s 4ms/step - loss: 0.0842 - accuracy: 0.9583 - val_loss: 0.0532 - val_accuracy: 1.0000\n",
            "Epoch 85/100\n",
            "15/15 [==============================] - 0s 4ms/step - loss: 0.0828 - accuracy: 0.9667 - val_loss: 0.0524 - val_accuracy: 1.0000\n",
            "Epoch 86/100\n",
            "15/15 [==============================] - 0s 5ms/step - loss: 0.0831 - accuracy: 0.9667 - val_loss: 0.0526 - val_accuracy: 1.0000\n",
            "Epoch 87/100\n",
            "15/15 [==============================] - 0s 4ms/step - loss: 0.0810 - accuracy: 0.9667 - val_loss: 0.0515 - val_accuracy: 1.0000\n",
            "Epoch 88/100\n",
            "15/15 [==============================] - 0s 4ms/step - loss: 0.0807 - accuracy: 0.9667 - val_loss: 0.0511 - val_accuracy: 1.0000\n",
            "Epoch 89/100\n",
            "15/15 [==============================] - 0s 5ms/step - loss: 0.0806 - accuracy: 0.9667 - val_loss: 0.0502 - val_accuracy: 1.0000\n",
            "Epoch 90/100\n",
            "15/15 [==============================] - 0s 5ms/step - loss: 0.0796 - accuracy: 0.9667 - val_loss: 0.0482 - val_accuracy: 1.0000\n",
            "Epoch 91/100\n",
            "15/15 [==============================] - 0s 4ms/step - loss: 0.0789 - accuracy: 0.9750 - val_loss: 0.0480 - val_accuracy: 1.0000\n",
            "Epoch 92/100\n",
            "15/15 [==============================] - 0s 5ms/step - loss: 0.0786 - accuracy: 0.9750 - val_loss: 0.0484 - val_accuracy: 1.0000\n",
            "Epoch 93/100\n",
            "15/15 [==============================] - 0s 4ms/step - loss: 0.0775 - accuracy: 0.9667 - val_loss: 0.0475 - val_accuracy: 1.0000\n",
            "Epoch 94/100\n",
            "15/15 [==============================] - 0s 4ms/step - loss: 0.0771 - accuracy: 0.9750 - val_loss: 0.0472 - val_accuracy: 1.0000\n",
            "Epoch 95/100\n",
            "15/15 [==============================] - 0s 4ms/step - loss: 0.0759 - accuracy: 0.9750 - val_loss: 0.0465 - val_accuracy: 1.0000\n",
            "Epoch 96/100\n",
            "15/15 [==============================] - 0s 5ms/step - loss: 0.0761 - accuracy: 0.9750 - val_loss: 0.0458 - val_accuracy: 1.0000\n",
            "Epoch 97/100\n",
            "15/15 [==============================] - 0s 4ms/step - loss: 0.0765 - accuracy: 0.9667 - val_loss: 0.0452 - val_accuracy: 1.0000\n",
            "Epoch 98/100\n",
            "15/15 [==============================] - 0s 4ms/step - loss: 0.0750 - accuracy: 0.9750 - val_loss: 0.0438 - val_accuracy: 1.0000\n",
            "Epoch 99/100\n",
            "15/15 [==============================] - 0s 4ms/step - loss: 0.0738 - accuracy: 0.9750 - val_loss: 0.0439 - val_accuracy: 1.0000\n",
            "Epoch 100/100\n",
            "15/15 [==============================] - 0s 5ms/step - loss: 0.0735 - accuracy: 0.9750 - val_loss: 0.0442 - val_accuracy: 1.0000\n"
          ]
        }
      ]
    },
    {
      "cell_type": "code",
      "source": [
        "# Evaluate the model\n",
        "loss, accuracy = model.evaluate(X_test, y_test)\n",
        "print(f'Test Accuracy: {accuracy * 100:.2f}%')"
      ],
      "metadata": {
        "id": "vaS3DrhD0Jsd",
        "colab": {
          "base_uri": "https://localhost:8080/"
        },
        "outputId": "ce3bb68d-c228-4c2d-acc3-05193b3079ae"
      },
      "execution_count": null,
      "outputs": [
        {
          "output_type": "stream",
          "name": "stdout",
          "text": [
            "1/1 [==============================] - 0s 25ms/step - loss: 0.0442 - accuracy: 1.0000\n",
            "Test Accuracy: 100.00%\n"
          ]
        }
      ]
    }
  ]
}